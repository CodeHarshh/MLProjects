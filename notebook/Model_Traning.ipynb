{
 "cells": [
  {
   "cell_type": "markdown",
   "metadata": {},
   "source": [
    "# Model Traning"
   ]
  },
  {
   "cell_type": "code",
   "execution_count": 1,
   "metadata": {},
   "outputs": [],
   "source": [
    "import numpy as np\n",
    "import pandas as pd\n",
    "import seaborn as sns\n",
    "import matplotlib.pyplot as plt\n",
    "\n",
    "#Modelling\n"
   ]
  },
  {
   "cell_type": "code",
   "execution_count": 2,
   "metadata": {},
   "outputs": [],
   "source": [
    "from sklearn.metrics import mean_squared_error, r2_score, mean_absolute_error\n",
    "from sklearn.model_selection import RandomizedSearchCV\n",
    "from sklearn.neighbors import KNeighborsRegressor\n",
    "from sklearn.tree import DecisionTreeRegressor\n",
    "from sklearn.ensemble import RandomForestRegressor, AdaBoostRegressor\n",
    "from sklearn.svm import SVR\n",
    "from sklearn.linear_model import LinearRegression, Ridge, Lasso\n",
    "from catboost import CatBoostRegressor\n",
    "from xgboost import XGBRegressor\n",
    "import warnings"
   ]
  },
  {
   "cell_type": "code",
   "execution_count": 3,
   "metadata": {},
   "outputs": [
    {
     "data": {
      "text/html": [
       "<div>\n",
       "<style scoped>\n",
       "    .dataframe tbody tr th:only-of-type {\n",
       "        vertical-align: middle;\n",
       "    }\n",
       "\n",
       "    .dataframe tbody tr th {\n",
       "        vertical-align: top;\n",
       "    }\n",
       "\n",
       "    .dataframe thead th {\n",
       "        text-align: right;\n",
       "    }\n",
       "</style>\n",
       "<table border=\"1\" class=\"dataframe\">\n",
       "  <thead>\n",
       "    <tr style=\"text-align: right;\">\n",
       "      <th></th>\n",
       "      <th>gender</th>\n",
       "      <th>race/ethnicity</th>\n",
       "      <th>parental level of education</th>\n",
       "      <th>lunch</th>\n",
       "      <th>test preparation course</th>\n",
       "      <th>math score</th>\n",
       "      <th>reading score</th>\n",
       "      <th>writing score</th>\n",
       "    </tr>\n",
       "  </thead>\n",
       "  <tbody>\n",
       "    <tr>\n",
       "      <th>0</th>\n",
       "      <td>female</td>\n",
       "      <td>group B</td>\n",
       "      <td>bachelor's degree</td>\n",
       "      <td>standard</td>\n",
       "      <td>none</td>\n",
       "      <td>72</td>\n",
       "      <td>72</td>\n",
       "      <td>74</td>\n",
       "    </tr>\n",
       "    <tr>\n",
       "      <th>1</th>\n",
       "      <td>female</td>\n",
       "      <td>group C</td>\n",
       "      <td>some college</td>\n",
       "      <td>standard</td>\n",
       "      <td>completed</td>\n",
       "      <td>69</td>\n",
       "      <td>90</td>\n",
       "      <td>88</td>\n",
       "    </tr>\n",
       "    <tr>\n",
       "      <th>2</th>\n",
       "      <td>female</td>\n",
       "      <td>group B</td>\n",
       "      <td>master's degree</td>\n",
       "      <td>standard</td>\n",
       "      <td>none</td>\n",
       "      <td>90</td>\n",
       "      <td>95</td>\n",
       "      <td>93</td>\n",
       "    </tr>\n",
       "    <tr>\n",
       "      <th>3</th>\n",
       "      <td>male</td>\n",
       "      <td>group A</td>\n",
       "      <td>associate's degree</td>\n",
       "      <td>free/reduced</td>\n",
       "      <td>none</td>\n",
       "      <td>47</td>\n",
       "      <td>57</td>\n",
       "      <td>44</td>\n",
       "    </tr>\n",
       "    <tr>\n",
       "      <th>4</th>\n",
       "      <td>male</td>\n",
       "      <td>group C</td>\n",
       "      <td>some college</td>\n",
       "      <td>standard</td>\n",
       "      <td>none</td>\n",
       "      <td>76</td>\n",
       "      <td>78</td>\n",
       "      <td>75</td>\n",
       "    </tr>\n",
       "  </tbody>\n",
       "</table>\n",
       "</div>"
      ],
      "text/plain": [
       "   gender race/ethnicity parental level of education         lunch  \\\n",
       "0  female        group B           bachelor's degree      standard   \n",
       "1  female        group C                some college      standard   \n",
       "2  female        group B             master's degree      standard   \n",
       "3    male        group A          associate's degree  free/reduced   \n",
       "4    male        group C                some college      standard   \n",
       "\n",
       "  test preparation course  math score  reading score  writing score  \n",
       "0                    none          72             72             74  \n",
       "1               completed          69             90             88  \n",
       "2                    none          90             95             93  \n",
       "3                    none          47             57             44  \n",
       "4                    none          76             78             75  "
      ]
     },
     "execution_count": 3,
     "metadata": {},
     "output_type": "execute_result"
    }
   ],
   "source": [
    "df=pd.read_csv('StudentsPerformance.csv')\n",
    "df.head()"
   ]
  },
  {
   "cell_type": "markdown",
   "metadata": {},
   "source": [
    "Preaparing X  and Y  varoables"
   ]
  },
  {
   "cell_type": "code",
   "execution_count": 4,
   "metadata": {},
   "outputs": [],
   "source": [
    "x=df.drop(columns=['math score'],axis=1)\n",
    "y=df['math score']"
   ]
  },
  {
   "cell_type": "code",
   "execution_count": 5,
   "metadata": {},
   "outputs": [
    {
     "name": "stdout",
     "output_type": "stream",
     "text": [
      "categories in 'gender' variable:  ['female' 'male']\n",
      "categories in 'race/ethnicity' variable:  ['group B' 'group C' 'group A' 'group D' 'group E']\n",
      "categories in 'parental level of education' variable:  [\"bachelor's degree\" 'some college' \"master's degree\" \"associate's degree\"\n",
      " 'high school' 'some high school']\n",
      "categories in 'lunch' variable:  ['standard' 'free/reduced']\n",
      "categories in 'test preparation course' variable:  ['none' 'completed']\n"
     ]
    }
   ],
   "source": [
    "print(\"categories in 'gender' variable: \",end=\" \")\n",
    "print(df['gender'].unique())\n",
    "\n",
    "print(\"categories in 'race/ethnicity' variable: \",end=\" \")\n",
    "print(df['race/ethnicity'].unique())\n",
    "\n",
    "print(\"categories in 'parental level of education' variable: \",end=\" \")\n",
    "print(df['parental level of education'].unique())\n",
    "\n",
    "print(\"categories in 'lunch' variable: \",end=\" \")\n",
    "print(df['lunch'].unique())\n",
    "\n",
    "print(\"categories in 'test preparation course' variable: \",end=\" \")\n",
    "print(df['test preparation course'].unique())\n"
   ]
  },
  {
   "cell_type": "code",
   "execution_count": 6,
   "metadata": {},
   "outputs": [],
   "source": [
    "num_feature=x.select_dtypes(exclude='object').columns\n",
    "cat_feature=x.select_dtypes(include='object').columns"
   ]
  },
  {
   "cell_type": "code",
   "execution_count": 7,
   "metadata": {},
   "outputs": [],
   "source": [
    "from sklearn.preprocessing import OneHotEncoder,StandardScaler\n",
    "from sklearn.compose import ColumnTransformer\n",
    "\n",
    "numerical_transformer=StandardScaler()\n",
    "oh_transformer=OneHotEncoder()\n",
    "\n",
    "preprecessor=ColumnTransformer(\n",
    "\n",
    "[\n",
    "    (\"OneHotEncoder\",oh_transformer,cat_feature),\n",
    "    (\"numerical_transformer\",numerical_transformer,num_feature)\n",
    "]\n",
    ")\n"
   ]
  },
  {
   "cell_type": "code",
   "execution_count": 8,
   "metadata": {},
   "outputs": [],
   "source": [
    "x=preprecessor.fit_transform(x)"
   ]
  },
  {
   "cell_type": "code",
   "execution_count": 9,
   "metadata": {},
   "outputs": [
    {
     "data": {
      "text/plain": [
       "array([[ 1.        ,  0.        ,  0.        , ...,  1.        ,\n",
       "         0.19399858,  0.39149181],\n",
       "       [ 1.        ,  0.        ,  0.        , ...,  0.        ,\n",
       "         1.42747598,  1.31326868],\n",
       "       [ 1.        ,  0.        ,  0.        , ...,  1.        ,\n",
       "         1.77010859,  1.64247471],\n",
       "       ...,\n",
       "       [ 1.        ,  0.        ,  0.        , ...,  0.        ,\n",
       "         0.12547206, -0.20107904],\n",
       "       [ 1.        ,  0.        ,  0.        , ...,  0.        ,\n",
       "         0.60515772,  0.58901542],\n",
       "       [ 1.        ,  0.        ,  0.        , ...,  1.        ,\n",
       "         1.15336989,  1.18158627]])"
      ]
     },
     "execution_count": 9,
     "metadata": {},
     "output_type": "execute_result"
    }
   ],
   "source": [
    "x\n"
   ]
  },
  {
   "cell_type": "code",
   "execution_count": 10,
   "metadata": {},
   "outputs": [],
   "source": [
    "from sklearn.model_selection import train_test_split\n",
    "\n",
    "x_train, x_test, y_train, y_test = train_test_split(x, y, test_size=0.2, random_state=42)"
   ]
  },
  {
   "cell_type": "code",
   "execution_count": 11,
   "metadata": {},
   "outputs": [],
   "source": [
    "def evaluate_model(true , predicted):\n",
    "    mae=mean_absolute_error(true , predicted)\n",
    "    mse=mean_squared_error(true , predicted)\n",
    "    rmse=np.sqrt(mean_squared_error(true , predicted))\n",
    "    r2_square=r2_score(true , predicted)\n",
    "    return mae , mse , rmse , r2_square"
   ]
  },
  {
   "cell_type": "code",
   "execution_count": 12,
   "metadata": {},
   "outputs": [],
   "source": [
    "models = {\n",
    "    \"Linear Regression\": LinearRegression(),\n",
    "    \"Ridge \": Ridge(),\n",
    "    \"Lasso \": Lasso(),\n",
    "    \"K-Neighbors Regressor\": KNeighborsRegressor(),\n",
    "    \"Decision Tree Regressor\": DecisionTreeRegressor(),\n",
    "    \"Random Forest Regressor\": RandomForestRegressor(),\n",
    "    \"AdaBoost Regressor\": AdaBoostRegressor(),\n",
    "    \"Support Vector Regressor (SVR)\": SVR(),\n",
    "    \"CatBoost Regressor\": CatBoostRegressor(verbose=0),\n",
    "    \"XGBoost Regressor\": XGBRegressor()\n",
    "}\n",
    "model_list=[]\n",
    "r2_list=[]\n"
   ]
  },
  {
   "cell_type": "code",
   "execution_count": 13,
   "metadata": {},
   "outputs": [
    {
     "name": "stdout",
     "output_type": "stream",
     "text": [
      "Model: Linear Regression\n",
      "  Training Data - MAE: 4.271484375, MSE: 28.4013037109375, RMSE: 5.329287354885032, R^2: 0.874022530822051\n",
      "  Testing Data  - MAE: 4.2221875, MSE: 29.43263671875, RMSE: 5.425185408698029, R^2: 0.8790464771743793\n",
      "================================================================================\n",
      "\n",
      "Model: Ridge \n",
      "  Training Data - MAE: 4.264987823725981, MSE: 28.33778823308244, RMSE: 5.323324922741654, R^2: 0.8743042615212909\n",
      "  Testing Data  - MAE: 4.21110068801426, MSE: 29.056272192348278, RMSE: 5.390387016935637, R^2: 0.8805931485028738\n",
      "================================================================================\n",
      "\n",
      "Model: Lasso \n",
      "  Training Data - MAE: 5.206302661246526, MSE: 43.47840400585577, RMSE: 6.593815587795565, R^2: 0.8071462015863458\n",
      "  Testing Data  - MAE: 5.157881810347763, MSE: 42.5064168384116, RMSE: 6.519694535667419, R^2: 0.8253197323627853\n",
      "================================================================================\n",
      "\n",
      "Model: K-Neighbors Regressor\n",
      "  Training Data - MAE: 4.51675, MSE: 32.57995, RMSE: 5.707884897227694, R^2: 0.8554876322327585\n",
      "  Testing Data  - MAE: 5.621, MSE: 52.6066, RMSE: 7.253040741647602, R^2: 0.7838129945787431\n",
      "================================================================================\n",
      "\n",
      "Model: Decision Tree Regressor\n",
      "  Training Data - MAE: 0.01875, MSE: 0.078125, RMSE: 0.2795084971874737, R^2: 0.9996534669718089\n",
      "  Testing Data  - MAE: 6.24, MSE: 60.59, RMSE: 7.783957862167549, R^2: 0.751005184549582\n",
      "================================================================================\n",
      "\n",
      "Model: Random Forest Regressor\n",
      "  Training Data - MAE: 1.8371729166666666, MSE: 5.342184388888889, RMSE: 2.3113165920939713, R^2: 0.9763040853320055\n",
      "  Testing Data  - MAE: 4.6451416666666665, MSE: 35.566609451388885, RMSE: 5.963774765313399, R^2: 0.8538388949241513\n",
      "================================================================================\n",
      "\n",
      "Model: AdaBoost Regressor\n",
      "  Training Data - MAE: 4.6682428448193445, MSE: 32.70853252152164, RMSE: 5.719137393132083, R^2: 0.85491728867365\n",
      "  Testing Data  - MAE: 4.853427480166925, MSE: 38.19850217277924, RMSE: 6.180493683580564, R^2: 0.843023122644107\n",
      "================================================================================\n",
      "\n",
      "Model: Support Vector Regressor (SVR)\n",
      "  Training Data - MAE: 4.869189452384867, MSE: 43.257024268031365, RMSE: 6.57700724251018, R^2: 0.8081281585902299\n",
      "  Testing Data  - MAE: 5.401539244496997, MSE: 66.0420049374565, RMSE: 8.126623218622633, R^2: 0.7286001513223704\n",
      "================================================================================\n",
      "\n",
      "Model: CatBoost Regressor\n",
      "  Training Data - MAE: 2.405393926779502, MSE: 9.257805405523678, RMSE: 3.042664195326799, R^2: 0.9589358676277713\n",
      "  Testing Data  - MAE: 4.612531714976557, MSE: 36.10365799356841, RMSE: 6.008631956907363, R^2: 0.8516318920747058\n",
      "================================================================================\n",
      "\n",
      "Model: XGBoost Regressor\n",
      "  Training Data - MAE: 0.6874666035175323, MSE: 1.0146163961652577, RMSE: 1.0072816866027385, R^2: 0.9954995444196413\n",
      "  Testing Data  - MAE: 5.057730598449707, MSE: 41.90370826987466, RMSE: 6.4733073671713335, R^2: 0.8277965653186071\n",
      "================================================================================\n",
      "\n"
     ]
    }
   ],
   "source": [
    "for name, model in models.items():\n",
    "    model.fit(x_train,y_train)\n",
    "    train_pred = model.predict(x_train)\n",
    "    test_pred = model.predict(x_test)\n",
    "    \n",
    "    train_mae, train_mse, train_rmse, train_r2 = evaluate_model(y_train, train_pred)\n",
    "    test_mae, test_mse, test_rmse, test_r2 = evaluate_model(y_test, test_pred)\n",
    "\n",
    "    r2_list.append((name, test_r2))\n",
    "    r2_list.sort(key=lambda x: x[1], reverse=True)\n",
    "    print(f\"Model: {name}\")\n",
    "    print(f\"  Training Data - MAE: {train_mae}, MSE: {train_mse}, RMSE: {train_rmse}, R^2: {train_r2}\")\n",
    "    \n",
    "    print(f\"  Testing Data  - MAE: {test_mae}, MSE: {test_mse}, RMSE: {test_rmse}, R^2: {test_r2}\")\n",
    "    print(\"==\" * 40)\n",
    "    print(\"\")\n"
   ]
  },
  {
   "cell_type": "code",
   "execution_count": 14,
   "metadata": {},
   "outputs": [
    {
     "name": "stdout",
     "output_type": "stream",
     "text": [
      "Model: Ridge , R^2: 0.8805931485028738\n",
      "Model: Linear Regression, R^2: 0.8790464771743793\n",
      "Model: Random Forest Regressor, R^2: 0.8538388949241513\n",
      "Model: CatBoost Regressor, R^2: 0.8516318920747058\n",
      "Model: AdaBoost Regressor, R^2: 0.843023122644107\n",
      "Model: XGBoost Regressor, R^2: 0.8277965653186071\n",
      "Model: Lasso , R^2: 0.8253197323627853\n",
      "Model: K-Neighbors Regressor, R^2: 0.7838129945787431\n",
      "Model: Decision Tree Regressor, R^2: 0.751005184549582\n",
      "Model: Support Vector Regressor (SVR), R^2: 0.7286001513223704\n"
     ]
    }
   ],
   "source": [
    "for model_name, r2_score in r2_list:\n",
    "    print(f\"Model: {model_name}, R^2: {r2_score}\")"
   ]
  },
  {
   "cell_type": "code",
   "execution_count": 19,
   "metadata": {},
   "outputs": [
    {
     "name": "stdout",
     "output_type": "stream",
     "text": [
      " Accuracy of the model is 0.88\n"
     ]
    }
   ],
   "source": [
    "from sklearn.metrics import r2_score\n",
    "lin_model = LinearRegression(fit_intercept=True)\n",
    "lin_model = lin_model.fit(x_train, y_train)\n",
    "y_pred = lin_model.predict(x_test)\n",
    "score = r2_score(y_test, y_pred)\n",
    "print(\" Accuracy of the model is %.2f\" %score)"
   ]
  },
  {
   "cell_type": "code",
   "execution_count": null,
   "metadata": {},
   "outputs": [],
   "source": []
  },
  {
   "cell_type": "code",
   "execution_count": null,
   "metadata": {},
   "outputs": [],
   "source": []
  },
  {
   "cell_type": "code",
   "execution_count": null,
   "metadata": {},
   "outputs": [],
   "source": []
  }
 ],
 "metadata": {
  "kernelspec": {
   "display_name": "Python 3",
   "language": "python",
   "name": "python3"
  },
  "language_info": {
   "codemirror_mode": {
    "name": "ipython",
    "version": 3
   },
   "file_extension": ".py",
   "mimetype": "text/x-python",
   "name": "python",
   "nbconvert_exporter": "python",
   "pygments_lexer": "ipython3",
   "version": "3.8.20"
  }
 },
 "nbformat": 4,
 "nbformat_minor": 2
}
